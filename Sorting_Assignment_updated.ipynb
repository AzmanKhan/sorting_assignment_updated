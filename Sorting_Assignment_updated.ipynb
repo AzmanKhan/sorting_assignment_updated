{
 "cells": [
  {
   "cell_type": "markdown",
   "id": "77c5ae6d-d692-4766-a0ab-7bfb7a6f34af",
   "metadata": {},
   "source": [
    "# Problem 1.Given an array of n numbers, give an algorithm which gives the element appearing maximum number of times?"
   ]
  },
  {
   "cell_type": "code",
   "execution_count": 1,
   "id": "da3e3f4a-615c-4ff7-a434-50820543cc92",
   "metadata": {},
   "outputs": [
    {
     "name": "stdout",
     "output_type": "stream",
     "text": [
      "The maximum appearing element is 8\n"
     ]
    }
   ],
   "source": [
    "def num_appearing_maximum(arr):\n",
    "    arr.sort()\n",
    "    max_count = 0\n",
    "    current_element = 0\n",
    "    count = 0\n",
    "\n",
    "    for i in arr:\n",
    "        if i == current_element:\n",
    "            count += 1\n",
    "        else:\n",
    "            current_element = i\n",
    "            count = 1\n",
    "\n",
    "        if count > max_count:\n",
    "            max_count = count\n",
    "            max_appearing = current_element\n",
    "\n",
    "    return max_appearing\n",
    "\n",
    "\n",
    "arr = [8, 8, 2, 3, 9, 8, 9, 5]\n",
    "result = num_appearing_maximum(arr)\n",
    "print(\"The maximum appearing element is\", result)\n"
   ]
  },
  {
   "cell_type": "markdown",
   "id": "7d4684a0-f027-4ee1-80d0-54d4fcbdcf64",
   "metadata": {},
   "source": [
    "# Problem 2 : We are given a list of n-1 integers and these integers are in the range of 1 to n . There are no duplicates in the list. One of the integers is missing in the list. Give an algorithm to find that element Ex: [1,2,4,6,3,7,8] 5 is the missing num."
   ]
  },
  {
   "cell_type": "code",
   "execution_count": 56,
   "id": "efc59374-8ac9-43c6-a233-da6fe47cd753",
   "metadata": {},
   "outputs": [
    {
     "name": "stdout",
     "output_type": "stream",
     "text": [
      "5\n"
     ]
    }
   ],
   "source": [
    "def findMissing(arr):\n",
    "    arr.sort()\n",
    "    for i in range(1,len(arr)+1):\n",
    "        if arr[i+1] -arr[i] != 1:\n",
    "            return arr[i]+1\n",
    "        \n",
    "arr= [1,2,4,6,3,7,8]\n",
    "result = findMissing(arr)\n",
    "print(result)"
   ]
  },
  {
   "cell_type": "markdown",
   "id": "7acf053a-7e70-4878-bcfb-48081f7dbb4f",
   "metadata": {},
   "source": [
    "# Problem 3 : Given an array of n positive numbers. All numbers occurs even number of times except 1 which occurs odd number of times. Find that number in O(n) time and O(1) space. Ex: [1,2,3,2,3,1,3]. 3 is repeats odd times."
   ]
  },
  {
   "cell_type": "code",
   "execution_count": 2,
   "id": "ca32b63c-e47c-4719-9b26-9be577faa2c4",
   "metadata": {},
   "outputs": [
    {
     "name": "stdout",
     "output_type": "stream",
     "text": [
      "3\n"
     ]
    }
   ],
   "source": [
    "def max_num(arr):\n",
    "    result =0 \n",
    "    for i in arr:\n",
    "        result^=i\n",
    "    return result \n",
    "num = [1,2,3,2,3,1,3]\n",
    "res = max_num(num)\n",
    "print (res)  \n",
    "            "
   ]
  },
  {
   "cell_type": "markdown",
   "id": "e8453e4f-89a5-43c9-ae43-8264668d478b",
   "metadata": {},
   "source": [
    "# Problem 4 : Given an array of n elements. Find two elements in the array such that their sum is equal to given element K."
   ]
  },
  {
   "cell_type": "code",
   "execution_count": 70,
   "id": "d05f1dd4-8d38-44fc-9d77-4842a5884389",
   "metadata": {},
   "outputs": [
    {
     "name": "stdout",
     "output_type": "stream",
     "text": [
      "The two element in the arr whose sum is equal to k is  (1, 9)\n"
     ]
    }
   ],
   "source": [
    "def find_two_elemet(arr,k):\n",
    "    for i in range (len(arr)):\n",
    "        for j in range(i+1,len(arr)):\n",
    "            if arr[i]+arr[j] ==k:\n",
    "                return arr[i],arr[j]\n",
    "arr = [1,2,3,4,6,4,9]\n",
    "k = 10\n",
    "result = find_two_elemet(arr,k)\n",
    "if result :\n",
    "    print(\"The two element in the arr whose sum is equal to k is \",result)\n",
    "else:\n",
    "    print(\"No such element found\")"
   ]
  },
  {
   "cell_type": "markdown",
   "id": "c58ad051-733b-4b93-9cd6-84126e9a6a60",
   "metadata": {},
   "source": [
    "# Problem 5 : Given an array of both positive and negative numbers, find two numbers such that their sum is closest to 0. Ex: [ 1 ,60 ,-10, 70, -80,85]. Ans : -80,85."
   ]
  },
  {
   "cell_type": "code",
   "execution_count": 80,
   "id": "aea39f8d-6756-4f0c-9796-a2e773eac33e",
   "metadata": {},
   "outputs": [
    {
     "name": "stdout",
     "output_type": "stream",
     "text": [
      "The two element in the arr whose sum closest to 0 are (-80, 85)\n"
     ]
    }
   ],
   "source": [
    "def find_two_elemet(arr):\n",
    "    closest_sum = float('inf')\n",
    "    result = (None,None)\n",
    "    for i in range (len(arr)):\n",
    "        for j in range(i+1,len( arr)):\n",
    "            # Calculate the current sum\n",
    "            current_sum = arr[i]+arr[j] \n",
    "            \n",
    "            # Update the result if the current pair has a closer sum to 0\n",
    "            if abs(current_sum) < abs(closest_sum):\n",
    "                closest_sum = current_sum\n",
    "                result = (arr[i],arr[j])\n",
    "    return result\n",
    "arr = [ 1 ,60 ,-10, 70, -80 ,85]\n",
    "final_result = find_two_elemet(arr)\n",
    "print(\"The two element in the arr whose sum closest to 0 are\",final_result) "
   ]
  },
  {
   "cell_type": "markdown",
   "id": "4abf9b03-497c-4807-8771-889d838feb58",
   "metadata": {},
   "source": [
    "# Problem 6 : Given an array of n elements . Find three elements such that their sum is equal to the given number."
   ]
  },
  {
   "cell_type": "code",
   "execution_count": 20,
   "id": "11cfd5a5-7411-4510-b2c8-f73d0b751943",
   "metadata": {},
   "outputs": [],
   "source": [
    "def threeSum(nums,k):\n",
    "    nums.sort() # sorting cause we need to avoid duplicates, with this duplicates will be near to each other\n",
    "    l=[]\n",
    "    for i in range(len(nums)):  #this loop will help to fix the one number i.e, i\n",
    "        if i>0 and nums[i-1]==nums[i]:  #skipping if we found the duplicate of i\n",
    "            continue \n",
    "\n",
    "  #NOW FOLLOWING THE RULE OF TWO POINTERS AFTER FIXING THE ONE VALUE (i)\n",
    "        low=i+1 #taking low  pointer larger than i (as said in ques)\n",
    "        high=len(nums)-1 #taking high pointer from last \n",
    "        while low<high: \n",
    "            s=nums[i]+nums[low]+nums[high] \n",
    "            if s>k: #if sum s is greater than (target) means the larger value(from right as nums is sorted i.e, k at right) \n",
    "    #is taken and it is not able to sum up to the target\n",
    "                high-=1  #so take value less than previous\n",
    "            elif s<k: #if sum s is less than (target) means the shorter value(from left as nums is sorted i.e, low at left) \n",
    "    #is taken and it is not able to sum up to the target\n",
    "                low+=1  #so take value greater than previous\n",
    "            else:\n",
    "                l.append([nums[i],nums[low],nums[high]]) #if sum s found equal to the target \n",
    "                low+=1 \n",
    "                while nums[low-1]==nums[low] and low<high: #skipping if we found the duplicate of low  and we dont need to check \n",
    "      #the duplicate of high cause it will automatically skip the duplicate by the adjustment of i and low\n",
    "                    low+=1   \n",
    "    return l"
   ]
  },
  {
   "cell_type": "code",
   "execution_count": 25,
   "id": "952d316a-4ffa-4469-bcc4-d5af9bf80b24",
   "metadata": {},
   "outputs": [
    {
     "name": "stdout",
     "output_type": "stream",
     "text": [
      "The sum of three element equal to '{k}' is  [[1, 2, 9], [2, 4, 6]]\n"
     ]
    }
   ],
   "source": [
    "arr = [1,2,3,4,6,4,9]\n",
    "k = 12\n",
    "result = threeSum(arr,k)\n",
    "if result :\n",
    "    print(\"The sum of three element equal to '{k}' is \",result)\n",
    "else:\n",
    "    print(\"No such element found\")"
   ]
  },
  {
   "cell_type": "markdown",
   "id": "9491ff28-e668-4640-a778-3373f75058d8",
   "metadata": {},
   "source": [
    "# Problem 7 : Given an array of n elements . Find three elements i, j, k in the array such that i * i + j * j = k*k."
   ]
  },
  {
   "cell_type": "code",
   "execution_count": 3,
   "id": "2eccd583-d2c9-4d99-94f9-193e762b8fca",
   "metadata": {},
   "outputs": [
    {
     "name": "stdout",
     "output_type": "stream",
     "text": [
      "The element are [2, -2, 0]\n"
     ]
    }
   ],
   "source": [
    "def threeElement(arr):\n",
    "    arr.sort()\n",
    "    for i in range (len(arr)-1,1,-1):\n",
    "        low = 0\n",
    "        high = i-1\n",
    "        while low<high:\n",
    "            sums = arr[low]*arr[low] + arr[high]*arr[high] \n",
    "            if sums == arr[i]*arr[i]:\n",
    "                return arr[i], arr[low],arr[high]\n",
    "            elif sums < arr[i]*arr[i]:\n",
    "                low+=1\n",
    "            else :\n",
    "                high-=1\n",
    "                \n",
    "    return None\n",
    "\n",
    "arr = [1,2,-1,-2,1,-1,0]\n",
    "result = list(threeElement(arr))\n",
    "if result :\n",
    "    print(\"The element are\",result)\n",
    "else:\n",
    "    print(\"No such element found\")                      "
   ]
  },
  {
   "cell_type": "markdown",
   "id": "9b3a2f5a-e81f-4b0c-b714-622fe3ff9c57",
   "metadata": {},
   "source": [
    "# Problem 8 : An element is a majority if it appears more than n/2 times. Give an algorithm takes an array of n element as argument and identifies a majority (if it exists)."
   ]
  },
  {
   "cell_type": "code",
   "execution_count": 40,
   "id": "1b7f1377-ab00-48b9-8c55-88ce597952b1",
   "metadata": {},
   "outputs": [
    {
     "name": "stdout",
     "output_type": "stream",
     "text": [
      "the elemet which appear n/2 times in arr is   1\n"
     ]
    }
   ],
   "source": [
    "def majority(arr):\n",
    "    arr.sort()\n",
    "    max_count =0\n",
    "    current= None\n",
    "    count = 0\n",
    "    for i in arr:\n",
    "        if i == current:\n",
    "            count +=1\n",
    "        else:\n",
    "            current = i\n",
    "            count = 1\n",
    "        if count> max_count:\n",
    "            max_count = count \n",
    "            max_appering = current\n",
    "        # Check if the max_count is greater than len(arr)//2\n",
    "    if max_count>len(arr)//2:\n",
    "        return max_appering\n",
    "    else :\n",
    "        return None\n",
    "\n",
    "arr =[1, 2, 1, 1, 7, 8,1,1, 3]\n",
    "result = majority(arr)\n",
    "if result :\n",
    "    print(\"the elemet which appear n/2 times in arr is  \",result)\n",
    "else:\n",
    "    print(\"No such element found\")"
   ]
  },
  {
   "cell_type": "markdown",
   "id": "70ea1273-ed9f-4f26-a78b-a3dacd8eaa62",
   "metadata": {},
   "source": [
    "# Problem 9 : Given n × n matrix, and in each row all 1’s are followed by 0’s. Find the row with the maximum number of 0’s."
   ]
  },
  {
   "cell_type": "code",
   "execution_count": 5,
   "id": "51d5abb9-92df-4de9-9b3f-815119d47be9",
   "metadata": {},
   "outputs": [
    {
     "name": "stdout",
     "output_type": "stream",
     "text": [
      "The row with the maximum number of 0's is: 2\n"
     ]
    }
   ],
   "source": [
    "def find_max_zeros_row(matrix):\n",
    "    max_zeros_row = -1\n",
    "    max_zeros_count = -1\n",
    "    for i, row in enumerate(matrix):\n",
    "        count_zero = row.count(0)\n",
    "        if count_zero > max_zeros_count:\n",
    "            max_zeros_count = count_zero\n",
    "            max_zeros_row = i\n",
    "\n",
    "    return max_zeros_row\n",
    "\n",
    "matrix = [\n",
    "    [1, 1, 1, 0, 0],\n",
    "    [1, 1, 0, 0, 0],\n",
    "    [1, 0, 0, 0 ,0],\n",
    "    [1, 1, 1, 1, 0],\n",
    "    [1, 1, 1, 0, 0]\n",
    "]\n",
    "\n",
    "result = find_max_zeros_row(matrix)\n",
    "if result is not None:\n",
    "    print(f\"The row with the maximum number of 0's is: {result}\")\n",
    "else:\n",
    "    print(\"The matrix is empty.\")"
   ]
  },
  {
   "cell_type": "markdown",
   "id": "559f2285-5fa9-4244-8753-5b932be36817",
   "metadata": {},
   "source": [
    "# Problem 10 : Sort an array of 0’s, 1’s and 2’s [or R’s, G’s and B’s]: Given an array A[] consisting of 0’s, 1’s and 2’s, give an algorithm for sorting A[].The algorithm should put all 0’s first, then all 1’s and finally all 2’s at the end. Example Input = {0,1,1,0,1,2,1,2,0,0,0,1}, Output = {0,0,0,0,0,1,1,1,1,1,2,2} -->"
   ]
  },
  {
   "cell_type": "code",
   "execution_count": 4,
   "id": "9da9f52e-c9d6-4916-a2f7-e303f9c78390",
   "metadata": {},
   "outputs": [
    {
     "name": "stdout",
     "output_type": "stream",
     "text": [
      "[0, 0, 0, 0, 0, 1, 1, 1, 1, 1, 2, 2]\n"
     ]
    }
   ],
   "source": [
    "def sortArray(arr):\n",
    "    left = 0\n",
    "    right  = len(arr)-1\n",
    "    mid = 0\n",
    "    while (mid <= right):\n",
    "        if arr[mid] == 0:\n",
    "            arr[left], arr[mid] = arr[mid], arr[left]\n",
    "            left += 1\n",
    "            mid+=1\n",
    "        elif arr[mid]==1:\n",
    "            mid+=1\n",
    "        else :\n",
    "            arr[mid], arr[right] = arr[right], arr[mid]\n",
    "            right-=1\n",
    "        \n",
    "arr = [0,1,1,0,1,2,1,2,0,0,0,1]\n",
    "sortArray(arr)\n",
    "print(arr)"
   ]
  },
  {
   "cell_type": "code",
   "execution_count": null,
   "id": "c718d2d3-2e77-41dd-8d8a-449886244c31",
   "metadata": {},
   "outputs": [],
   "source": []
  }
 ],
 "metadata": {
  "kernelspec": {
   "display_name": "Python 3 (ipykernel)",
   "language": "python",
   "name": "python3"
  },
  "language_info": {
   "codemirror_mode": {
    "name": "ipython",
    "version": 3
   },
   "file_extension": ".py",
   "mimetype": "text/x-python",
   "name": "python",
   "nbconvert_exporter": "python",
   "pygments_lexer": "ipython3",
   "version": "3.10.8"
  }
 },
 "nbformat": 4,
 "nbformat_minor": 5
}
